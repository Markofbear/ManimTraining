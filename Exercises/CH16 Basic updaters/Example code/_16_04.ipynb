{
 "cells": [
  {
   "cell_type": "code",
   "execution_count": null,
   "metadata": {},
   "outputs": [],
   "source": [
    "from manim import *\n",
    "config.media_width = \"100%\"\n",
    "\n",
    "ri = \"-s -qh --disable_caching -v WARNING Example\"\n",
    "rv = \"-qh --fps=30 --disable_caching -v WARNING Example\"\n",
    "\n",
    "class MyScene(Scene):\n",
    "    def setup(self):\n",
    "        self.np = NumberPlane(axis_config={\"include_numbers\":True})\n",
    "        self.add(self.np)"
   ]
  },
  {
   "cell_type": "code",
   "execution_count": null,
   "metadata": {},
   "outputs": [],
   "source": [
    "%%manim $rv\n",
    "\n",
    "class Example(Scene):\n",
    "    def construct(self):\n",
    "        dot = Dot(color=RED)\n",
    "        square = always_redraw(lambda: Square().next_to(dot,DOWN))\n",
    "        circle = always_redraw(lambda: Circle().move_to(square,DOWN))\n",
    "\n",
    "        self.add(dot,circle,square)\n",
    "        print(self.mobjects)\n",
    "        self.wait(0.5)\n",
    "        self.play(dot.animate.shift(RIGHT*3),run_time=3)\n",
    "        self.wait(0.5)\n",
    "        self.play(dot.animate.shift(LEFT*6),run_time=5)\n",
    "        self.wait(0.5)\n",
    "        self.play(dot.animate.move_to(ORIGIN).to_edge(UP),run_time=3)\n",
    "        self.wait(0.5)"
   ]
  },
  {
   "cell_type": "code",
   "execution_count": null,
   "metadata": {},
   "outputs": [],
   "source": [
    "%%manim $rv\n",
    "\n",
    "class Example(Scene):\n",
    "    def construct(self):\n",
    "        d = Dot(color=RED)\n",
    "        c = Circle()\n",
    "        s = Square()\n",
    "        grp = VGroup(c,s)\n",
    "\n",
    "        def grp_updater(_grp):\n",
    "            _c,_s = _grp\n",
    "            _c.next_to(d,LEFT)\n",
    "            _s.next_to(d,RIGHT)\n",
    "        grp.add_updater(grp_updater)\n",
    "\n",
    "        # self.add(d,grp)\n",
    "        # Don't use:\n",
    "        self.add(d, c, s)\n",
    "        anim_kwargs = {\"run_time\": 3, \"rate_func\": linear}\n",
    "        self.wait(0.5)\n",
    "        self.play(d.animate.shift(RIGHT*3),**anim_kwargs)\n",
    "        self.play(Rotate(d,PI,about_point=ORIGIN,**anim_kwargs))\n",
    "        self.play(Rotate(d,-PI,about_point=ORIGIN,**anim_kwargs))\n",
    "        self.wait()\n",
    "\n"
   ]
  },
  {
   "cell_type": "code",
   "execution_count": null,
   "metadata": {},
   "outputs": [],
   "source": []
  }
 ],
 "metadata": {
  "interpreter": {
   "hash": "b2c06b1f9b59a7f1a8e74b0382cc835fe03c37138c1e1b9e577358754bba674e"
  },
  "kernelspec": {
   "display_name": "Python 3 (ipykernel)",
   "language": "python",
   "name": "python3"
  },
  "language_info": {
   "codemirror_mode": {
    "name": "ipython",
    "version": 3
   },
   "file_extension": ".py",
   "mimetype": "text/x-python",
   "name": "python",
   "nbconvert_exporter": "python",
   "pygments_lexer": "ipython3",
   "version": "3.9.9"
  }
 },
 "nbformat": 4,
 "nbformat_minor": 2
}
