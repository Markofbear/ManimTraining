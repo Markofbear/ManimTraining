{
 "cells": [
  {
   "cell_type": "code",
   "execution_count": null,
   "metadata": {},
   "outputs": [],
   "source": [
    "from manim import *\n",
    "config.media_width = \"100%\"\n",
    "\n",
    "ri = \"-s -qh --disable_caching -v WARNING Example\"\n",
    "rv = \"-qh --fps=30 --disable_caching -v WARNING Example\"\n",
    "\n",
    "class MyScene(Scene):\n",
    "    def setup(self):\n",
    "        self.np = NumberPlane(axis_config={\"include_numbers\":True})\n",
    "        self.add(self.np)"
   ]
  },
  {
   "cell_type": "markdown",
   "metadata": {},
   "source": [
    "## ValueTracker"
   ]
  },
  {
   "cell_type": "code",
   "execution_count": null,
   "metadata": {},
   "outputs": [],
   "source": [
    "%%manim $rv\n",
    "\n",
    "class Example(Scene):\n",
    "    def construct(self):\n",
    "        number_line = NumberLine(x_range=[-5,5,1],length=10,include_numbers=True)\n",
    "        INITIAL_VALUE = -2\n",
    "        vt = ValueTracker(INITIAL_VALUE)\n",
    "\n",
    "        t = always_redraw(\n",
    "            lambda: Triangle(fill_opacity=1)\n",
    "                        .rotate(PI)\n",
    "                        .set(height=0.4)\n",
    "                        .next_to(number_line.n2p(vt.get_value()),UP,buff=0)\n",
    "        )\n",
    "\n",
    "        self.add(number_line,t)\n",
    "        self.wait()\n",
    "        self.play( vt.animate.set_value(-5), run_time=3 )\n",
    "        self.wait()\n",
    "        self.play( vt.animate.increment_value(5), run_time=3 )\n",
    "        self.wait()\n",
    "        self.play( vt.animate.set_value(3), run_time=3 )\n",
    "        self.wait()"
   ]
  },
  {
   "cell_type": "code",
   "execution_count": null,
   "metadata": {},
   "outputs": [],
   "source": [
    "%%manim $rv\n",
    "\n",
    "class Example(Scene):\n",
    "    def construct(self):\n",
    "        theta = ValueTracker(20*DEGREES)\n",
    "\n",
    "        line1 = Line(LEFT*2,RIGHT*2)\n",
    "        line2 = always_redraw(\n",
    "            lambda: line1.copy()\n",
    "                        .set_angle(theta.get_value()) # <- Set the angle\n",
    "                        .set_color(RED)\n",
    "        )\n",
    "        angle = always_redraw(\n",
    "            lambda: Angle(line1,line2,other_angle=False if theta.get_value() > 0 else True)\n",
    "        )\n",
    "\n",
    "        self.add(line1,line2,angle)\n",
    "        self.wait(0.5)\n",
    "        self.play(\n",
    "            theta.animate.set_value(90*DEGREES),\n",
    "            run_time=2.5\n",
    "        )\n",
    "        self.wait(0.5)\n",
    "        self.play(\n",
    "            theta.animate.increment_value(-120*DEGREES),\n",
    "            run_time=2.5\n",
    "        )\n",
    "        self.wait(0.5)"
   ]
  },
  {
   "cell_type": "code",
   "execution_count": null,
   "metadata": {},
   "outputs": [],
   "source": [
    "%%manim $rv\n",
    "\n",
    "class Example(MyScene):\n",
    "    def construct(self):\n",
    "        coord = ComplexValueTracker(0+0j)\n",
    "\n",
    "        dot = always_redraw(\n",
    "            lambda: Dot([\n",
    "                coord.get_value().real,\n",
    "                coord.get_value().imag,\n",
    "                0\n",
    "        ]))\n",
    "\n",
    "        self.add(dot)\n",
    "        self.wait()\n",
    "        self.play(coord.animate.set_value(1+0j)) # (1,0)\n",
    "        self.wait()\n",
    "        self.play(coord.animate.set_value(1+2j)) # (1,2)\n",
    "        self.wait()\n",
    "        self.play(coord.animate.increment_value(1-1j)) # (1,2) + (1,-1) = (2,1)\n",
    "        self.wait()"
   ]
  },
  {
   "cell_type": "code",
   "execution_count": null,
   "metadata": {},
   "outputs": [],
   "source": [
    "%%manim $rv\n",
    "\n",
    "class Example(MyScene):\n",
    "    def construct(self):\n",
    "        coord = ComplexValueTracker(0+0j)\n",
    "\n",
    "        dot = always_redraw(\n",
    "            lambda: Dot([complex_to_R3(coord.get_value())],color=RED))\n",
    "\n",
    "        self.add(NumberPlane(), dot)\n",
    "        self.wait()\n",
    "        self.play(coord.animate.set_value(1+0j))\n",
    "        self.wait()\n",
    "        self.play(coord.animate.set_value(1+2j))\n",
    "        self.wait()\n",
    "        self.play(coord.animate.increment_value(1-1j))\n",
    "        self.wait()"
   ]
  },
  {
   "cell_type": "markdown",
   "metadata": {},
   "source": [
    "# DecimalNumber"
   ]
  },
  {
   "cell_type": "code",
   "execution_count": null,
   "metadata": {},
   "outputs": [],
   "source": [
    "%%manim $rv\n",
    "\n",
    "class Example(Scene):\n",
    "    def construct(self):\n",
    "        nl = NumberLine(include_numbers=True)\n",
    "        selector = Triangle(fill_opacity=1,color=RED).scale(0.2).rotate(PI/3)\n",
    "        dn = DecimalNumber(0)\n",
    "\n",
    "        update_grp = VGroup(selector, dn)\n",
    "\n",
    "        def update_vgrp(vgrp):\n",
    "            s,d = vgrp\n",
    "            s.next_to(nl.n2p(dn.get_value()),UP,buff=0)\n",
    "            d.next_to(selector,UP,buff=0.1)\n",
    "\n",
    "        update_grp.add_updater(update_vgrp)\n",
    "\n",
    "        self.add(nl,update_grp) # <-- add grp complete, not each element\n",
    "        # Not use self.add(nl, selecttor, dn)\n",
    "        self.wait(0.5)\n",
    "        self.play( ChangeDecimalToValue(dn, 4), run_time=2 )\n",
    "        self.wait(0.5)\n",
    "        self.play( ChangeDecimalToValue(dn, -1), run_time=2 )\n",
    "        self.wait(0.5)\n",
    "        self.play( ChangeDecimalToValue(dn, -4), run_time=2 )\n",
    "        self.wait(0.5)\n",
    "        self.play( ChangeDecimalToValue(dn, 7), run_time=3 )\n",
    "        self.wait(0.5)"
   ]
  },
  {
   "cell_type": "code",
   "execution_count": null,
   "metadata": {},
   "outputs": [],
   "source": [
    "%%manim $rv\n",
    "\n",
    "class Example(Scene):\n",
    "    def construct(self):\n",
    "        theta = DecimalNumber(20,num_decimal_places=1,unit=\"^\\\\circ\")\n",
    "\n",
    "        line1 = Line(LEFT*2,RIGHT*2)\n",
    "        line2 = always_redraw(\n",
    "            lambda: line1.copy()\n",
    "                        .set_angle(theta.get_value()*DEGREES) # <- Set the angle\n",
    "                        .set_color(RED)\n",
    "        )\n",
    "        angle = always_redraw(\n",
    "            lambda: Angle(\n",
    "                line1,line2,\n",
    "                radius=3,\n",
    "                other_angle=False if theta.get_value()*DEGREES > 0 else True\n",
    "            )\n",
    "        )\n",
    "        theta.next_to(line1,LEFT,buff=1)\n",
    "        self.add(theta,line1,line2,angle)\n",
    "        self.wait(0.5)\n",
    "        self.play( # theta.animate.set_value(90*DEGREES),\n",
    "            ChangeDecimalToValue(theta,90), run_time=2.5\n",
    "        )\n",
    "        self.wait(0.5)\n",
    "        self.play( # theta.animate.increment_value(-120*DEGREES),\n",
    "            ChangeDecimalToValue(theta,-30), run_time=2.5\n",
    "        )\n",
    "        self.wait(0.5)"
   ]
  },
  {
   "cell_type": "code",
   "execution_count": null,
   "metadata": {},
   "outputs": [],
   "source": []
  }
 ],
 "metadata": {
  "interpreter": {
   "hash": "b2c06b1f9b59a7f1a8e74b0382cc835fe03c37138c1e1b9e577358754bba674e"
  },
  "kernelspec": {
   "display_name": "Python 3 (ipykernel)",
   "language": "python",
   "name": "python3"
  },
  "language_info": {
   "codemirror_mode": {
    "name": "ipython",
    "version": 3
   },
   "file_extension": ".py",
   "mimetype": "text/x-python",
   "name": "python",
   "nbconvert_exporter": "python",
   "pygments_lexer": "ipython3",
   "version": "3.9.9"
  }
 },
 "nbformat": 4,
 "nbformat_minor": 2
}
