{
 "cells": [
  {
   "cell_type": "code",
   "execution_count": null,
   "metadata": {},
   "outputs": [],
   "source": [
    "from manim import *\n",
    "config.media_width = \"100%\"\n",
    "\n",
    "ri = \"-s -qh --disable_caching -v WARNING Example\"\n",
    "rv = \"-qh --fps=30 --disable_caching -v WARNING Example\"\n",
    "\n",
    "class MyScene(Scene):\n",
    "    def setup(self):\n",
    "        self.np = NumberPlane(axis_config={\"include_numbers\":True})\n",
    "        self.add(self.np)"
   ]
  },
  {
   "cell_type": "markdown",
   "metadata": {},
   "source": [
    "# **Become**: Instant transformation"
   ]
  },
  {
   "cell_type": "code",
   "execution_count": null,
   "metadata": {},
   "outputs": [],
   "source": [
    "%%manim $rv\n",
    "\n",
    "class Example(Scene):\n",
    "    def construct(self):\n",
    "        t = Text(\"Text\")\n",
    "        c = Circle()\n",
    "        s = Square()\n",
    "\n",
    "        self.add(t)\n",
    "        self.wait()\n",
    "        # old versions: Transform(t,c).update()\n",
    "        t.become(c)\n",
    "        self.wait()\n",
    "        t.become(s)\n",
    "        self.wait()\n",
    "        t.set_color(RED)\n",
    "        self.wait()\n"
   ]
  },
  {
   "cell_type": "code",
   "execution_count": null,
   "metadata": {},
   "outputs": [],
   "source": [
    "%%manim $rv\n",
    "\n",
    "class Example(Scene):\n",
    "    def construct(self):\n",
    "        line  = Line(LEFT*3,RIGHT*3)\n",
    "        brace = Brace(\n",
    "            line,\n",
    "            rotate_vector(line.get_unit_vector(),PI/2)\n",
    "        )\n",
    "\n",
    "        anim_kwargs = {\"run_time\": 2, \"rate_func\": linear}\n",
    "        self.add(line,brace)\n",
    "        self.wait(0.5)\n",
    "        self.play(line.animate.set_length(2),**anim_kwargs)\n",
    "        self.wait(0.5)\n",
    "        self.play(Rotate(line,PI/2,**anim_kwargs))\n",
    "        self.wait(0.5)\n",
    "        self.play(line.animate.shift(DOWN),**anim_kwargs)\n",
    "        self.wait()"
   ]
  },
  {
   "cell_type": "code",
   "execution_count": null,
   "metadata": {},
   "outputs": [],
   "source": [
    "%%manim $rv\n",
    "\n",
    "class Example(Scene):\n",
    "    def construct(self):\n",
    "        line  = Line(LEFT*3,RIGHT*3)\n",
    "        brace = Brace(\n",
    "            line,\n",
    "            rotate_vector(line.get_unit_vector(),PI/2)\n",
    "        )\n",
    "\n",
    "        # define updater\n",
    "        def brace_updater(mob):\n",
    "            new_brace = Brace(\n",
    "                    line,\n",
    "                    rotate_vector(line.get_unit_vector(),PI/2)\n",
    "                )\n",
    "            mob.become(new_brace)\n",
    "\n",
    "        brace.add_updater(brace_updater)\n",
    "\n",
    "        anim_kwargs = {\"run_time\": 2, \"rate_func\": linear}\n",
    "        self.add(line,brace)\n",
    "        self.wait(0.5)\n",
    "        self.play(line.animate.set_length(2),**anim_kwargs)\n",
    "        self.wait(0.5)\n",
    "        self.play(Rotate(line,PI/2,**anim_kwargs))\n",
    "        self.wait(0.5)\n",
    "        self.play(line.animate.shift(DOWN),**anim_kwargs)\n",
    "        self.wait()"
   ]
  },
  {
   "cell_type": "code",
   "execution_count": null,
   "metadata": {
    "scrolled": true
   },
   "outputs": [],
   "source": [
    "%%manim $rv\n",
    "\n",
    "class Example(Scene):\n",
    "    def construct(self):\n",
    "        line  = Line(LEFT*3,RIGHT*3)\n",
    "\n",
    "        # always_redraw already set the updater to the object.\n",
    "        brace = always_redraw(\n",
    "            lambda: Brace(\n",
    "                            line,\n",
    "                            rotate_vector(line.get_unit_vector(),PI/2)\n",
    "                        )\n",
    "        )\n",
    "\n",
    "        anim_kwargs = {\"run_time\": 2, \"rate_func\": linear}\n",
    "        self.add(line,brace)\n",
    "        self.wait(0.5)\n",
    "        self.play(line.animate.set_length(2),**anim_kwargs)\n",
    "        self.wait(0.5)\n",
    "        self.play(line.animate.shift(DOWN),**anim_kwargs)\n",
    "        self.wait(0.5)\n",
    "        self.play(Rotate(line,-PI/2,**anim_kwargs))\n",
    "        self.wait()"
   ]
  },
  {
   "cell_type": "code",
   "execution_count": null,
   "metadata": {},
   "outputs": [],
   "source": []
  }
 ],
 "metadata": {
  "interpreter": {
   "hash": "b2c06b1f9b59a7f1a8e74b0382cc835fe03c37138c1e1b9e577358754bba674e"
  },
  "kernelspec": {
   "display_name": "Python 3 (ipykernel)",
   "language": "python",
   "name": "python3"
  },
  "language_info": {
   "codemirror_mode": {
    "name": "ipython",
    "version": 3
   },
   "file_extension": ".py",
   "mimetype": "text/x-python",
   "name": "python",
   "nbconvert_exporter": "python",
   "pygments_lexer": "ipython3",
   "version": "3.9.9"
  }
 },
 "nbformat": 4,
 "nbformat_minor": 2
}
