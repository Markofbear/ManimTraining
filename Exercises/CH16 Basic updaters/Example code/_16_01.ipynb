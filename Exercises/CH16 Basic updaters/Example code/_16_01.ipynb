{
 "cells": [
  {
   "cell_type": "code",
   "execution_count": 2,
   "metadata": {},
   "outputs": [
    {
     "data": {
      "text/html": [
       "<pre style=\"white-space:pre;overflow-x:auto;line-height:normal;font-family:Menlo,'DejaVu Sans Mono',consolas,'Courier New',monospace\">Manim Community <span style=\"color: #008000; text-decoration-color: #008000\">v0.15.0</span>\n",
       "\n",
       "</pre>\n"
      ],
      "text/plain": [
       "Manim Community \u001b[32mv0.\u001b[0m\u001b[32m15.0\u001b[0m\n",
       "\n"
      ]
     },
     "metadata": {},
     "output_type": "display_data"
    }
   ],
   "source": [
    "from manim import *\n",
    "config.media_width = \"100%\"\n",
    "\n",
    "ri = \"-s -qh --disable_caching -v WARNING Example\"\n",
    "rv = \"-qm --fps=30 --disable_caching -v WARNING Example\"\n",
    "\n",
    "class MyScene(Scene):\n",
    "    def setup(self):\n",
    "        self.np = NumberPlane(axis_config={\"include_numbers\":True})\n",
    "        self.add(self.np)"
   ]
  },
  {
   "cell_type": "code",
   "execution_count": 4,
   "metadata": {},
   "outputs": [
    {
     "name": "stderr",
     "output_type": "stream",
     "text": [
      "                                                                                    \r"
     ]
    },
    {
     "data": {
      "text/html": [
       "<video src=\"media/jupyter/Example@2022-03-05@03-06-46.mp4\" controls autoplay loop style=\"max-width: 100%;\"  >\n",
       "      Your browser does not support the <code>video</code> element.\n",
       "    </video>"
      ],
      "text/plain": [
       "<IPython.core.display.Video object>"
      ]
     },
     "metadata": {},
     "output_type": "display_data"
    }
   ],
   "source": [
    "%%manim $rv\n",
    "\n",
    "class Example(Scene):\n",
    "    def construct(self):\n",
    "        dot  = Dot(color=RED)\n",
    "        text = Text(\"Text\")\n",
    "\n",
    "        text.next_to(dot,DOWN)\n",
    "        anim_kwargs = {\"run_time\": 3, \"rate_func\": linear}\n",
    "\n",
    "        self.add(dot,text)\n",
    "        self.wait()\n",
    "        self.play(dot.animate.shift(RIGHT*3),**anim_kwargs)\n",
    "        self.play(Rotate(dot,PI,about_point=ORIGIN,**anim_kwargs))\n",
    "        self.play(Rotate(dot,-PI,about_point=ORIGIN,**anim_kwargs))\n",
    "        self.wait()"
   ]
  },
  {
   "cell_type": "code",
   "execution_count": null,
   "metadata": {},
   "outputs": [],
   "source": [
    "%%manim $rv\n",
    "\n",
    "class Example(Scene):\n",
    "    def construct(self):\n",
    "        dot  = Dot(color=RED)\n",
    "        text = Text(\"Text\")\n",
    "\n",
    "        text.next_to(dot,DOWN)\n",
    "        anim_kwargs = {\"run_time\": 3, \"rate_func\": linear}\n",
    "\n",
    "        # updater definition\n",
    "        def my_first_updater(mob):\n",
    "            mob.next_to(dot,DOWN)\n",
    "        # add updater to mobject\n",
    "        text.add_updater(my_first_updater)\n",
    "\n",
    "        self.add(dot,text)\n",
    "        self.wait()\n",
    "        self.play(dot.animate.shift(RIGHT*3),**anim_kwargs)\n",
    "        self.play(Rotate(dot,PI,about_point=ORIGIN,**anim_kwargs))\n",
    "        self.play(Rotate(dot,-PI,about_point=ORIGIN,**anim_kwargs))\n",
    "        self.wait()"
   ]
  },
  {
   "cell_type": "code",
   "execution_count": null,
   "metadata": {},
   "outputs": [],
   "source": [
    "%%manim $rv\n",
    "\n",
    "class Example(Scene):\n",
    "    def construct(self):\n",
    "        dot  = Dot(color=RED)\n",
    "        text = Text(\"Text\")\n",
    "\n",
    "        text.next_to(dot,DOWN)\n",
    "        anim_kwargs = {\"run_time\": 3, \"rate_func\": linear}\n",
    "\n",
    "        # updater definition\n",
    "        def my_first_updater(mob):\n",
    "            mob.next_to(dot,DOWN)\n",
    "        # add updater to mobject\n",
    "        text.add_updater(my_first_updater)\n",
    "\n",
    "        self.add(dot,text)\n",
    "        self.wait()\n",
    "        self.play(dot.animate.shift(RIGHT*3),**anim_kwargs)\n",
    "        self.play(Rotate(dot,PI,about_point=ORIGIN,**anim_kwargs))\n",
    "        # remove all updaters:\n",
    "        text.clear_updaters()\n",
    "        self.play(Rotate(dot,-PI,about_point=ORIGIN,**anim_kwargs))\n",
    "        self.wait()"
   ]
  },
  {
   "cell_type": "code",
   "execution_count": null,
   "metadata": {},
   "outputs": [],
   "source": [
    "%%manim $rv\n",
    "\n",
    "class Example(Scene):\n",
    "    def construct(self):\n",
    "        dot  = Dot(color=RED)\n",
    "        text = Text(\"Text\")\n",
    "\n",
    "        text.next_to(dot,DOWN)\n",
    "        anim_kwargs = {\"run_time\": 3, \"rate_func\": linear}\n",
    "\n",
    "        # updater definition\n",
    "        def my_first_updater(mob):\n",
    "            mob.next_to(dot,DOWN)\n",
    "        # add updater to mobject\n",
    "        text.add_updater(my_first_updater)\n",
    "\n",
    "        self.add(dot,text)\n",
    "        self.wait()\n",
    "        self.play(dot.animate.shift(RIGHT*3),**anim_kwargs)\n",
    "        text.suspend_updating()\n",
    "        self.play(Rotate(dot,PI,about_point=ORIGIN,**anim_kwargs))\n",
    "        text.resume_updating()\n",
    "        self.play(Rotate(dot,-PI,about_point=ORIGIN,**anim_kwargs))\n",
    "        self.wait()"
   ]
  },
  {
   "cell_type": "code",
   "execution_count": null,
   "metadata": {},
   "outputs": [],
   "source": [
    "%%manim $rv\n",
    "\n",
    "class Example(Scene):\n",
    "    def construct(self):\n",
    "        dot  = Dot(color=RED)\n",
    "        text = Text(\"Text\")\n",
    "\n",
    "        text.next_to(dot,DOWN)\n",
    "        anim_kwargs = {\"run_time\": 3, \"rate_func\": linear}\n",
    "\n",
    "        # updater definition\n",
    "        def my_first_updater(mob):\n",
    "            mob.next_to(dot,DOWN)\n",
    "\n",
    "        self.add(dot,text)\n",
    "        self.wait()\n",
    "        self.play(\n",
    "            dot.animate.shift(RIGHT*3),\n",
    "            UpdateFromFunc(text,my_first_updater),\n",
    "            **anim_kwargs\n",
    "        )\n",
    "        self.play(Rotate(dot,PI,about_point=ORIGIN,**anim_kwargs))\n",
    "        self.play(\n",
    "            Rotate(dot,-PI,about_point=ORIGIN,**anim_kwargs),\n",
    "            UpdateFromFunc(text,my_first_updater),\n",
    "        )\n",
    "        self.wait()"
   ]
  },
  {
   "cell_type": "code",
   "execution_count": null,
   "metadata": {},
   "outputs": [],
   "source": [
    "%%manim $rv\n",
    "\n",
    "class Example(Scene):\n",
    "    def construct(self):\n",
    "        dot  = Dot(color=RED)\n",
    "        text = Text(\"Text\")\n",
    "\n",
    "        text.next_to(dot,DOWN)\n",
    "        anim_kwargs = {\"run_time\": 3, \"rate_func\": linear}\n",
    "\n",
    "        text.add_updater(\n",
    "            lambda mob: mob.next_to(dot,DOWN)\n",
    "        )\n",
    "\n",
    "        self.add(dot,text)\n",
    "        self.wait()\n",
    "        self.play(dot.animate.shift(RIGHT*3),**anim_kwargs)\n",
    "        self.play(Rotate(dot,PI,about_point=ORIGIN,**anim_kwargs))\n",
    "        self.play(Rotate(dot,-PI,about_point=ORIGIN,**anim_kwargs))\n",
    "        self.wait()"
   ]
  },
  {
   "cell_type": "markdown",
   "metadata": {},
   "source": [
    "# CLOSURES"
   ]
  },
  {
   "cell_type": "code",
   "execution_count": 3,
   "metadata": {},
   "outputs": [
    {
     "name": "stderr",
     "output_type": "stream",
     "text": [
      "                                                                                    \r"
     ]
    },
    {
     "data": {
      "text/html": [
       "<video src=\"media/jupyter/Example@2022-03-05@03-07-33.mp4\" controls autoplay loop style=\"max-width: 100%;\"  >\n",
       "      Your browser does not support the <code>video</code> element.\n",
       "    </video>"
      ],
      "text/plain": [
       "<IPython.core.display.Video object>"
      ]
     },
     "metadata": {},
     "output_type": "display_data"
    }
   ],
   "source": [
    "%%manim $rv\n",
    "\n",
    "class Example(Scene):\n",
    "    def construct(self):\n",
    "        dot    = Dot(color=RED)\n",
    "        text   = Text(\"Text\")\n",
    "        square = Square()\n",
    "\n",
    "        text.next_to(dot,DOWN)\n",
    "        anim_kwargs = {\"run_time\": 3, \"rate_func\": linear}\n",
    "\n",
    "        text.add_updater(\n",
    "            lambda mob: mob.next_to(dot,DOWN)\n",
    "        )\n",
    "        square.add_updater(\n",
    "            lambda mob: mob.next_to(dot,LEFT)\n",
    "        )\n",
    "\n",
    "        self.add(dot,square,text)\n",
    "        self.wait()\n",
    "        self.play(dot.animate.shift(RIGHT*3),**anim_kwargs)\n",
    "        self.play(Rotate(dot,PI,about_point=ORIGIN,**anim_kwargs))\n",
    "        self.play(Rotate(dot,-PI,about_point=ORIGIN,**anim_kwargs))\n",
    "        self.wait()"
   ]
  },
  {
   "cell_type": "code",
   "execution_count": 1,
   "metadata": {},
   "outputs": [
    {
     "name": "stderr",
     "output_type": "stream",
     "text": [
      "UsageError: Cell magic `%%manim` not found.\n"
     ]
    }
   ],
   "source": [
    "%%manim $rv\n",
    "\n",
    "class Example(Scene):\n",
    "    def construct(self):\n",
    "        dot    = Dot(color=RED)\n",
    "        text   = Text(\"Text\")\n",
    "        square = Square()\n",
    "\n",
    "        text.next_to(dot,DOWN)\n",
    "        anim_kwargs = {\"run_time\": 3, \"rate_func\": linear}\n",
    "\n",
    "        def my_closure(direction):\n",
    "            def my_updater(mob):\n",
    "                mob.next_to(dot,direction)\n",
    "            return my_updater\n",
    "\n",
    "        text.add_updater(my_closure(RIGHT))\n",
    "        square.add_updater(my_closure(UP))\n",
    "\n",
    "        self.add(dot,square,text)\n",
    "        self.wait()\n",
    "        self.play(dot.animate.shift(RIGHT*3),**anim_kwargs)\n",
    "        self.play(Rotate(dot,PI,about_point=ORIGIN,**anim_kwargs))\n",
    "        self.play(Rotate(dot,-PI,about_point=ORIGIN,**anim_kwargs))\n",
    "        self.wait()"
   ]
  },
  {
   "cell_type": "code",
   "execution_count": null,
   "metadata": {},
   "outputs": [],
   "source": [
    "%%manim $rv\n",
    "\n",
    "class Example(Scene):\n",
    "    def my_closure(self, dot, direction):\n",
    "        def _updater(mob):\n",
    "            mob.next_to(dot,direction)\n",
    "        return _updater\n",
    "\n",
    "    def construct(self):\n",
    "        dot    = Dot(color=RED)\n",
    "        text   = Text(\"Text\")\n",
    "        square = Square()\n",
    "\n",
    "        text.next_to(dot,DOWN)\n",
    "        anim_kwargs = {\"run_time\": 3, \"rate_func\": linear}\n",
    "\n",
    "        text.add_updater(self.my_closure(dot,RIGHT))\n",
    "        square.add_updater(self.my_closure(dot,DOWN))\n",
    "\n",
    "        self.add(dot,square,text)\n",
    "        self.wait()\n",
    "        self.play(dot.animate.shift(RIGHT*3),**anim_kwargs)\n",
    "        self.play(Rotate(dot,PI,about_point=ORIGIN,**anim_kwargs))\n",
    "        self.play(Rotate(dot,-PI,about_point=ORIGIN,**anim_kwargs))\n",
    "        self.wait()"
   ]
  },
  {
   "cell_type": "code",
   "execution_count": null,
   "metadata": {},
   "outputs": [],
   "source": []
  }
 ],
 "metadata": {
  "interpreter": {
   "hash": "b2c06b1f9b59a7f1a8e74b0382cc835fe03c37138c1e1b9e577358754bba674e"
  },
  "kernelspec": {
   "display_name": "Python 3 (ipykernel)",
   "language": "python",
   "name": "python3"
  },
  "language_info": {
   "codemirror_mode": {
    "name": "ipython",
    "version": 3
   },
   "file_extension": ".py",
   "mimetype": "text/x-python",
   "name": "python",
   "nbconvert_exporter": "python",
   "pygments_lexer": "ipython3",
   "version": "3.9.7"
  }
 },
 "nbformat": 4,
 "nbformat_minor": 2
}
