{
 "cells": [
  {
   "cell_type": "code",
   "execution_count": 1,
   "metadata": {},
   "outputs": [
    {
     "ename": "ModuleNotFoundError",
     "evalue": "No module named 'manim'",
     "output_type": "error",
     "traceback": [
      "\u001b[1;31m---------------------------------------------------------------------------\u001b[0m",
      "\u001b[1;31mModuleNotFoundError\u001b[0m                       Traceback (most recent call last)",
      "Cell \u001b[1;32mIn[1], line 1\u001b[0m\n\u001b[1;32m----> 1\u001b[0m \u001b[38;5;28;01mfrom\u001b[39;00m \u001b[38;5;21;01mmanim\u001b[39;00m \u001b[38;5;28;01mimport\u001b[39;00m \u001b[38;5;241m*\u001b[39m\n\u001b[0;32m      2\u001b[0m config\u001b[38;5;241m.\u001b[39mmedia_width \u001b[38;5;241m=\u001b[39m \u001b[38;5;124m\"\u001b[39m\u001b[38;5;124m100\u001b[39m\u001b[38;5;124m%\u001b[39m\u001b[38;5;124m\"\u001b[39m\n\u001b[0;32m      4\u001b[0m ri \u001b[38;5;241m=\u001b[39m \u001b[38;5;124m\"\u001b[39m\u001b[38;5;124m-s --disable_caching -v WARNING Example\u001b[39m\u001b[38;5;124m\"\u001b[39m\n",
      "\u001b[1;31mModuleNotFoundError\u001b[0m: No module named 'manim'"
     ]
    }
   ],
   "source": [
    "from manim import *\n",
    "config.media_width = \"100%\"\n",
    "\n",
    "ri = \"-s --disable_caching -v WARNING Example\"\n",
    "rv = \"-qm --disable_caching -v WARNING Example\""
   ]
  },
  {
   "cell_type": "markdown",
   "metadata": {},
   "source": [
    "# Start animations in the middle of others"
   ]
  },
  {
   "cell_type": "markdown",
   "metadata": {},
   "source": [
    "We'll cover this in more detail in the next Intermediate Manim course, in the **AnimationGroup** chapter, but for now we can use this function to make one animation start in the middle of another."
   ]
  },
  {
   "cell_type": "code",
   "execution_count": null,
   "metadata": {},
   "outputs": [],
   "source": [
    "def custom_time(t,partitions,start,end,func):\n",
    "    duration = end - start\n",
    "    fragment_time = 1 / partitions\n",
    "    start_time = start * fragment_time\n",
    "    end_time = end * fragment_time\n",
    "    duration_time = duration * fragment_time\n",
    "    def fix_time(x):\n",
    "        return (x - start_time) / duration_time\n",
    "    if t < start_time: \n",
    "        return func(fix_time(start_time))\n",
    "    elif start_time <= t < end_time:\n",
    "        return func(fix_time(t))\n",
    "    else:\n",
    "        return func(fix_time(end_time))\n",
    "\n",
    "def Custom(partitions,start,end,func=smooth):\n",
    "    return lambda t: custom_time(t,partitions,start,end,func)"
   ]
  },
  {
   "cell_type": "code",
   "execution_count": null,
   "metadata": {},
   "outputs": [
    {
     "name": "stderr",
     "output_type": "stream",
     "text": [
      "                                                                                                                                         \r"
     ]
    },
    {
     "data": {
      "text/html": [
       "<video src=\"media/jupyter/Example@2022-01-21@21-11-16.mp4\" controls autoplay loop style=\"max-width: 100%;\"  >\n",
       "      Your browser does not support the <code>video</code> element.\n",
       "    </video>"
      ],
      "text/plain": [
       "<IPython.core.display.Video object>"
      ]
     },
     "metadata": {},
     "output_type": "display_data"
    }
   ],
   "source": [
    "%%manim $rv\n",
    "\n",
    "class Example(Scene):\n",
    "    def construct(self):\n",
    "        c = Circle().scale(2)\n",
    "        s = Square().scale(2)\n",
    "        l = Line(DOWN,UP).scale(2)\n",
    "        self.play(\n",
    "            # 6 partitions, that is (total_time = 4):\n",
    "            # ShowCreation starts at t=(0/6)*total_time=0s and end t=(5/6)*total_time=3.333s\n",
    "            Create(c,  rate_func=Custom(6,0,5)),\n",
    "            # GrowFromCenter starts at t=(2/6)*total_time=1.3333s and end t=(4/6)*total_time=2.6666s\n",
    "            GrowFromCenter(s, rate_func=Custom(6,2,4,func=there_and_back)),\n",
    "            # GrowFromEdge starts at t=(4/6)*total_time=2.6666s and end t=(6/6)*total_time=4s\n",
    "            GrowFromEdge(l,DOWN,rate_func=Custom(6,4,6)),\n",
    "            run_time=4 # <- total_time\n",
    "            )\n",
    "        self.wait()"
   ]
  },
  {
   "cell_type": "code",
   "execution_count": null,
   "metadata": {},
   "outputs": [],
   "source": []
  }
 ],
 "metadata": {
  "interpreter": {
   "hash": "659fcb5ecd3da9795ce42989ccb6a96d00fdb87ed448b82184be25a990041bf3"
  },
  "kernelspec": {
   "display_name": "Python 3 (ipykernel)",
   "language": "python",
   "name": "python3"
  },
  "language_info": {
   "codemirror_mode": {
    "name": "ipython",
    "version": 3
   },
   "file_extension": ".py",
   "mimetype": "text/x-python",
   "name": "python",
   "nbconvert_exporter": "python",
   "pygments_lexer": "ipython3",
   "version": "3.11.7"
  }
 },
 "nbformat": 4,
 "nbformat_minor": 2
}
