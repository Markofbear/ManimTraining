{
 "cells": [
  {
   "cell_type": "code",
   "execution_count": 1,
   "metadata": {},
   "outputs": [],
   "source": [
    "from imports import *"
   ]
  },
  {
   "cell_type": "markdown",
   "metadata": {},
   "source": [
    "# `Transform` examples"
   ]
  },
  {
   "cell_type": "markdown",
   "metadata": {},
   "source": [
    "### One base mob to multi-targets"
   ]
  },
  {
   "cell_type": "code",
   "execution_count": 2,
   "metadata": {},
   "outputs": [
    {
     "data": {
      "text/html": [
       "<pre style=\"white-space:pre;overflow-x:auto;line-height:normal;font-family:Menlo,'DejaVu Sans Mono',consolas,'Courier New',monospace\">Manim Community <span style=\"color: #008000; text-decoration-color: #008000\">v0.18.1</span>\n",
       "\n",
       "</pre>\n"
      ],
      "text/plain": [
       "Manim Community \u001b[32mv0.\u001b[0m\u001b[32m18.1\u001b[0m\n",
       "\n"
      ]
     },
     "metadata": {},
     "output_type": "display_data"
    },
    {
     "name": "stderr",
     "output_type": "stream",
     "text": [
      "                                                                                                           \r"
     ]
    },
    {
     "data": {
      "text/html": [
       "<video src=\"media\\jupyter\\Example@2024-08-19@15-22-46.mp4\" controls autoplay loop style=\"max-width: 100%;\"  >\n",
       "      Your browser does not support the <code>video</code> element.\n",
       "    </video>"
      ],
      "text/plain": [
       "<IPython.core.display.Video object>"
      ]
     },
     "metadata": {},
     "output_type": "display_data"
    }
   ],
   "source": [
    "%%manim $rm\n",
    "\n",
    "class Example(Scene):\n",
    "    def construct(self):\n",
    "        base = Circle()\n",
    "        target = VGroup(*[Circle() for _ in range(5)]).arrange(RIGHT)\n",
    "        VGroup(base,target).arrange(DOWN,buff=2)\n",
    "\n",
    "        self.add(base)\n",
    "        self.wait()\n",
    "        self.play(TransformFromCopy(base,target,run_time=4))\n",
    "        self.wait()"
   ]
  },
  {
   "cell_type": "code",
   "execution_count": 3,
   "metadata": {},
   "outputs": [
    {
     "data": {
      "text/html": [
       "<pre style=\"white-space:pre;overflow-x:auto;line-height:normal;font-family:Menlo,'DejaVu Sans Mono',consolas,'Courier New',monospace\">Manim Community <span style=\"color: #008000; text-decoration-color: #008000\">v0.18.1</span>\n",
       "\n",
       "</pre>\n"
      ],
      "text/plain": [
       "Manim Community \u001b[32mv0.\u001b[0m\u001b[32m18.1\u001b[0m\n",
       "\n"
      ]
     },
     "metadata": {},
     "output_type": "display_data"
    },
    {
     "name": "stderr",
     "output_type": "stream",
     "text": [
      "                                                                                                           \r"
     ]
    },
    {
     "data": {
      "text/html": [
       "<video src=\"media\\jupyter\\Example@2024-08-19@15-22-48.mp4\" controls autoplay loop style=\"max-width: 100%;\"  >\n",
       "      Your browser does not support the <code>video</code> element.\n",
       "    </video>"
      ],
      "text/plain": [
       "<IPython.core.display.Video object>"
      ]
     },
     "metadata": {},
     "output_type": "display_data"
    }
   ],
   "source": [
    "%%manim $rm\n",
    "\n",
    "class Example(Scene):\n",
    "    def construct(self):\n",
    "        base = Circle()\n",
    "        target = VGroup(Triangle(),Square(),Star(),RegularPolygon(5)).arrange(RIGHT)\n",
    "        VGroup(base,target).arrange(DOWN,buff=2)\n",
    "\n",
    "        self.add(base)\n",
    "        self.wait()\n",
    "        self.play(TransformFromCopy(base,target,run_time=6))\n",
    "        self.wait()"
   ]
  },
  {
   "cell_type": "markdown",
   "metadata": {},
   "source": [
    "### Multi base mob to one-target"
   ]
  },
  {
   "cell_type": "code",
   "execution_count": 12,
   "metadata": {},
   "outputs": [
    {
     "data": {
      "text/html": [
       "<pre style=\"white-space:pre;overflow-x:auto;line-height:normal;font-family:Menlo,'DejaVu Sans Mono',consolas,'Courier New',monospace\">Manim Community <span style=\"color: #008000; text-decoration-color: #008000\">v0.18.1</span>\n",
       "\n",
       "</pre>\n"
      ],
      "text/plain": [
       "Manim Community \u001b[32mv0.\u001b[0m\u001b[32m18.1\u001b[0m\n",
       "\n"
      ]
     },
     "metadata": {},
     "output_type": "display_data"
    },
    {
     "name": "stderr",
     "output_type": "stream",
     "text": [
      "                                                                                          \r"
     ]
    },
    {
     "data": {
      "text/html": [
       "<video src=\"media\\jupyter\\Example@2024-08-19@15-23-29.mp4\" controls autoplay loop style=\"max-width: 100%;\"  >\n",
       "      Your browser does not support the <code>video</code> element.\n",
       "    </video>"
      ],
      "text/plain": [
       "<IPython.core.display.Video object>"
      ]
     },
     "metadata": {},
     "output_type": "display_data"
    }
   ],
   "source": [
    "%%manim $rm\n",
    "\n",
    "class Example(Scene):\n",
    "    def construct(self):\n",
    "        base = VGroup(*[Circle() for _ in range(5)]).arrange(RIGHT)\n",
    "        target = Circle()\n",
    "        VGroup(base,target).arrange(DOWN,buff=2)\n",
    "\n",
    "        self.add(base)\n",
    "        self.wait()\n",
    "        self.play(TransformFromCopy(base,target,run_time=4))\n",
    "        self.wait()"
   ]
  },
  {
   "cell_type": "code",
   "execution_count": 5,
   "metadata": {},
   "outputs": [
    {
     "data": {
      "text/html": [
       "<pre style=\"white-space:pre;overflow-x:auto;line-height:normal;font-family:Menlo,'DejaVu Sans Mono',consolas,'Courier New',monospace\">Manim Community <span style=\"color: #008000; text-decoration-color: #008000\">v0.18.1</span>\n",
       "\n",
       "</pre>\n"
      ],
      "text/plain": [
       "Manim Community \u001b[32mv0.\u001b[0m\u001b[32m18.1\u001b[0m\n",
       "\n"
      ]
     },
     "metadata": {},
     "output_type": "display_data"
    },
    {
     "name": "stderr",
     "output_type": "stream",
     "text": [
      "                                                                                          \r"
     ]
    },
    {
     "data": {
      "text/html": [
       "<video src=\"media\\jupyter\\Example@2024-08-19@15-22-52.mp4\" controls autoplay loop style=\"max-width: 100%;\"  >\n",
       "      Your browser does not support the <code>video</code> element.\n",
       "    </video>"
      ],
      "text/plain": [
       "<IPython.core.display.Video object>"
      ]
     },
     "metadata": {},
     "output_type": "display_data"
    }
   ],
   "source": [
    "%%manim $rm\n",
    "\n",
    "class Example(Scene):\n",
    "    def construct(self):\n",
    "        base = VGroup(Triangle(),Square(),Star(),RegularPolygon(5)).arrange(RIGHT)\n",
    "        target = Circle()\n",
    "        VGroup(base,target).arrange(DOWN,buff=2)\n",
    "\n",
    "        self.add(base)\n",
    "        self.wait()\n",
    "        self.play(TransformFromCopy(base,target,run_time=6))\n",
    "        self.wait()"
   ]
  },
  {
   "cell_type": "markdown",
   "metadata": {},
   "source": [
    "<div style=\"font-size=2em\">\n",
    "\n",
    "# `FadeTransform`\n",
    "\n",
    "</div>"
   ]
  },
  {
   "cell_type": "code",
   "execution_count": 6,
   "metadata": {},
   "outputs": [
    {
     "data": {
      "text/html": [
       "<pre style=\"white-space:pre;overflow-x:auto;line-height:normal;font-family:Menlo,'DejaVu Sans Mono',consolas,'Courier New',monospace\">Manim Community <span style=\"color: #008000; text-decoration-color: #008000\">v0.18.1</span>\n",
       "\n",
       "</pre>\n"
      ],
      "text/plain": [
       "Manim Community \u001b[32mv0.\u001b[0m\u001b[32m18.1\u001b[0m\n",
       "\n"
      ]
     },
     "metadata": {},
     "output_type": "display_data"
    },
    {
     "name": "stdout",
     "output_type": "stream",
     "text": [
      "Before transform: Scene.mobjects: [Circle, ImageMobject]\n"
     ]
    },
    {
     "name": "stderr",
     "output_type": "stream",
     "text": [
      "                                                                                    \r"
     ]
    },
    {
     "name": "stdout",
     "output_type": "stream",
     "text": [
      "Post transform: Scene.mobjects: [Mobject, ImageMobject, Mobject]\n"
     ]
    },
    {
     "data": {
      "text/html": [
       "<video src=\"media\\jupyter\\Example@2024-08-19@15-22-59.mp4\" controls autoplay loop style=\"max-width: 100%;\"  >\n",
       "      Your browser does not support the <code>video</code> element.\n",
       "    </video>"
      ],
      "text/plain": [
       "<IPython.core.display.Video object>"
      ]
     },
     "metadata": {},
     "output_type": "display_data"
    }
   ],
   "source": [
    "%%manim -qh --fps=30 -v WARNING --disable_caching Example\n",
    "\n",
    "class Example(Scene):\n",
    "    def construct(self):\n",
    "        c = Circle().scale(2)\n",
    "        img = ImageMobject(\n",
    "            np.uint8([[0, 100, 30, 200],\n",
    "                      [255, 0, 5, 33]]\n",
    "        )).set(height=4)\n",
    "\n",
    "        Group(c,img).arrange(RIGHT,buff=1)\n",
    "\n",
    "        self.add(c,img)\n",
    "        print(f\"Before transform: Scene.mobjects: {self.mobjects}\")\n",
    "        self.wait(3)\n",
    "        self.play(\n",
    "            FadeTransform(c, img),\n",
    "            run_time=4\n",
    "        )\n",
    "        self.wait(2)\n",
    "        print(f\"Post transform: Scene.mobjects: {self.mobjects}\")"
   ]
  },
  {
   "cell_type": "code",
   "execution_count": 7,
   "metadata": {},
   "outputs": [
    {
     "data": {
      "text/html": [
       "<pre style=\"white-space:pre;overflow-x:auto;line-height:normal;font-family:Menlo,'DejaVu Sans Mono',consolas,'Courier New',monospace\">Manim Community <span style=\"color: #008000; text-decoration-color: #008000\">v0.18.1</span>\n",
       "\n",
       "</pre>\n"
      ],
      "text/plain": [
       "Manim Community \u001b[32mv0.\u001b[0m\u001b[32m18.1\u001b[0m\n",
       "\n"
      ]
     },
     "metadata": {},
     "output_type": "display_data"
    },
    {
     "name": "stderr",
     "output_type": "stream",
     "text": [
      "                                                                                   \r"
     ]
    },
    {
     "data": {
      "text/html": [
       "<video src=\"media\\jupyter\\Example@2024-08-19@15-23-01.mp4\" controls autoplay loop style=\"max-width: 100%;\"  >\n",
       "      Your browser does not support the <code>video</code> element.\n",
       "    </video>"
      ],
      "text/plain": [
       "<IPython.core.display.Video object>"
      ]
     },
     "metadata": {},
     "output_type": "display_data"
    }
   ],
   "source": [
    "%%manim $rm\n",
    "\n",
    "class Example(Scene):\n",
    "    def construct(self):\n",
    "        t = Text(\"Hello\").scale(3)\n",
    "        g = VGroup(Square(),Star(),Circle(),Triangle(),RegularPolygon(5)).arrange(RIGHT)\n",
    "\n",
    "        VGroup(t,g).arrange(DOWN,buff=1)\n",
    "\n",
    "        self.add(t,g)\n",
    "        self.wait()\n",
    "\n",
    "        self.play(FadeTransform(t,g),run_time=3)\n",
    "        self.wait()"
   ]
  },
  {
   "cell_type": "code",
   "execution_count": 8,
   "metadata": {},
   "outputs": [
    {
     "data": {
      "text/html": [
       "<pre style=\"white-space:pre;overflow-x:auto;line-height:normal;font-family:Menlo,'DejaVu Sans Mono',consolas,'Courier New',monospace\">Manim Community <span style=\"color: #008000; text-decoration-color: #008000\">v0.18.1</span>\n",
       "\n",
       "</pre>\n"
      ],
      "text/plain": [
       "Manim Community \u001b[32mv0.\u001b[0m\u001b[32m18.1\u001b[0m\n",
       "\n"
      ]
     },
     "metadata": {},
     "output_type": "display_data"
    },
    {
     "name": "stderr",
     "output_type": "stream",
     "text": [
      "                                                                                         \r"
     ]
    },
    {
     "data": {
      "text/html": [
       "<video src=\"media\\jupyter\\Example@2024-08-19@15-23-02.mp4\" controls autoplay loop style=\"max-width: 100%;\"  >\n",
       "      Your browser does not support the <code>video</code> element.\n",
       "    </video>"
      ],
      "text/plain": [
       "<IPython.core.display.Video object>"
      ]
     },
     "metadata": {},
     "output_type": "display_data"
    }
   ],
   "source": [
    "%%manim $rm\n",
    "\n",
    "class Example(Scene):\n",
    "    def construct(self):\n",
    "        t = Text(\"Hello\").scale(3)\n",
    "        g = VGroup(Square(),Star(),Circle(),Triangle(),RegularPolygon(5)).arrange(RIGHT)\n",
    "\n",
    "        VGroup(t,g).arrange(DOWN,buff=1)\n",
    "\n",
    "        self.add(t,g)\n",
    "        self.wait()\n",
    "\n",
    "        self.play(FadeTransformPieces(t,g),run_time=3)\n",
    "        self.wait()"
   ]
  },
  {
   "cell_type": "code",
   "execution_count": 9,
   "metadata": {},
   "outputs": [
    {
     "data": {
      "text/html": [
       "<pre style=\"white-space:pre;overflow-x:auto;line-height:normal;font-family:Menlo,'DejaVu Sans Mono',consolas,'Courier New',monospace\">Manim Community <span style=\"color: #008000; text-decoration-color: #008000\">v0.18.1</span>\n",
       "\n",
       "</pre>\n"
      ],
      "text/plain": [
       "Manim Community \u001b[32mv0.\u001b[0m\u001b[32m18.1\u001b[0m\n",
       "\n"
      ]
     },
     "metadata": {},
     "output_type": "display_data"
    },
    {
     "name": "stderr",
     "output_type": "stream",
     "text": [
      "                                                                                                                                     \r"
     ]
    },
    {
     "data": {
      "text/html": [
       "<video src=\"media\\jupyter\\Example@2024-08-19@15-23-09.mp4\" controls autoplay loop style=\"max-width: 100%;\"  >\n",
       "      Your browser does not support the <code>video</code> element.\n",
       "    </video>"
      ],
      "text/plain": [
       "<IPython.core.display.Video object>"
      ]
     },
     "metadata": {},
     "output_type": "display_data"
    }
   ],
   "source": [
    "%%manim -qh --fps=30 -v WARNING --disable_caching Example\n",
    "\n",
    "class Example(Scene):\n",
    "    def construct(self):\n",
    "        exp_str = \"\\\\frac{-it\\\\pi}{\\\\omega}\"\n",
    "        up_formula   = MathTex(\"e^\",exp_str)\n",
    "        down_formula = MathTex(exp_str)\n",
    "        VGroup(up_formula,down_formula)\\\n",
    "            .scale(3)\\\n",
    "            .arrange(DOWN,buff=2)\n",
    "\n",
    "        self.add(\n",
    "            up_formula,\n",
    "            down_formula.copy().fade(0.8)\n",
    "        )\n",
    "        self.wait(2)\n",
    "\n",
    "        e_symbol     = up_formula[0]   # \"e\"\n",
    "        exp_tex_up   = up_formula[1]   # ^\\frac{-it\\pi}{\\omega}\n",
    "        exp_tex_down = down_formula[0] # \\frac{-it\\\\pi}{\\\\omega}\n",
    "        self.play(\n",
    "            ReplacementTransform(exp_tex_up.copy(),exp_tex_down),\n",
    "            run_time=8,rate_func=linear\n",
    "        )\n",
    "        self.wait()"
   ]
  },
  {
   "cell_type": "markdown",
   "metadata": {},
   "source": [
    "<div style=\"font-size=2em\">\n",
    "\n",
    "# `TransformMatchingShapes`\n",
    "\n",
    "</div>"
   ]
  },
  {
   "cell_type": "code",
   "execution_count": 10,
   "metadata": {},
   "outputs": [
    {
     "data": {
      "text/html": [
       "<pre style=\"white-space:pre;overflow-x:auto;line-height:normal;font-family:Menlo,'DejaVu Sans Mono',consolas,'Courier New',monospace\">Manim Community <span style=\"color: #008000; text-decoration-color: #008000\">v0.18.1</span>\n",
       "\n",
       "</pre>\n"
      ],
      "text/plain": [
       "Manim Community \u001b[32mv0.\u001b[0m\u001b[32m18.1\u001b[0m\n",
       "\n"
      ]
     },
     "metadata": {},
     "output_type": "display_data"
    },
    {
     "name": "stderr",
     "output_type": "stream",
     "text": [
      "                                                                                               \r"
     ]
    },
    {
     "data": {
      "text/html": [
       "<video src=\"media\\jupyter\\Example@2024-08-19@15-23-14.mp4\" controls autoplay loop style=\"max-width: 100%;\"  >\n",
       "      Your browser does not support the <code>video</code> element.\n",
       "    </video>"
      ],
      "text/plain": [
       "<IPython.core.display.Video object>"
      ]
     },
     "metadata": {},
     "output_type": "display_data"
    }
   ],
   "source": [
    "%%manim $rm\n",
    "\n",
    "class Example(Scene):\n",
    "    def construct(self):\n",
    "        up_tex   = Tex(\"the morse code\", height=1)\n",
    "        down_tex = Tex(\"here come dots\", height=1)\n",
    "\n",
    "        VGroup(up_tex,down_tex).arrange(DOWN,buff=2)\n",
    "\n",
    "        self.add(up_tex)\n",
    "        self.wait()\n",
    "        self.play(TransformMatchingShapes(up_tex.copy(), down_tex, run_time=6,rate_func=linear))\n",
    "        self.wait()\n",
    "        self.play(TransformMatchingShapes(down_tex.copy(), up_tex, run_time=6,rate_func=linear))\n",
    "        self.wait()"
   ]
  },
  {
   "cell_type": "code",
   "execution_count": 11,
   "metadata": {},
   "outputs": [
    {
     "data": {
      "text/html": [
       "<pre style=\"white-space:pre;overflow-x:auto;line-height:normal;font-family:Menlo,'DejaVu Sans Mono',consolas,'Courier New',monospace\">Manim Community <span style=\"color: #008000; text-decoration-color: #008000\">v0.18.1</span>\n",
       "\n",
       "</pre>\n"
      ],
      "text/plain": [
       "Manim Community \u001b[32mv0.\u001b[0m\u001b[32m18.1\u001b[0m\n",
       "\n"
      ]
     },
     "metadata": {},
     "output_type": "display_data"
    },
    {
     "name": "stderr",
     "output_type": "stream",
     "text": [
      "                                                                                            \r"
     ]
    },
    {
     "data": {
      "text/html": [
       "<video src=\"media\\jupyter\\Example@2024-08-19@15-23-19.mp4\" controls autoplay loop style=\"max-width: 100%;\"  >\n",
       "      Your browser does not support the <code>video</code> element.\n",
       "    </video>"
      ],
      "text/plain": [
       "<IPython.core.display.Video object>"
      ]
     },
     "metadata": {},
     "output_type": "display_data"
    }
   ],
   "source": [
    "%%manim $rm\n",
    "\n",
    "class Example(Scene):\n",
    "    def construct(self):\n",
    "        t1 = MathTex(\"x\",\"+\",\"y\",\"=\",\"4\")\n",
    "        t2 = MathTex(\"x\",\"=\",\"4\",\"-\",\"y\")\n",
    "        VGroup(t1,t2)\\\n",
    "            .scale(3)\n",
    "        t2.align_to(t1,LEFT)\n",
    "\n",
    "        self.add(t1)\n",
    "        self.wait()\n",
    "        self.play(\n",
    "            TransformMatchingTex(\n",
    "                t1,t2,\n",
    "                # Try removing this dictionary\n",
    "                key_map={\n",
    "                    \"+\":\"-\"\n",
    "                }\n",
    "            ),\n",
    "            run_time=4\n",
    "        )\n",
    "        self.wait()"
   ]
  },
  {
   "cell_type": "code",
   "execution_count": null,
   "metadata": {},
   "outputs": [],
   "source": []
  }
 ],
 "metadata": {
  "interpreter": {
   "hash": "8e5fa92458127f81338b1df1904542a6a1611ba13e1feb9a7e1235506be441d8"
  },
  "kernelspec": {
   "display_name": "Python 3 (ipykernel)",
   "language": "python",
   "name": "python3"
  },
  "language_info": {
   "codemirror_mode": {
    "name": "ipython",
    "version": 3
   },
   "file_extension": ".py",
   "mimetype": "text/x-python",
   "name": "python",
   "nbconvert_exporter": "python",
   "pygments_lexer": "ipython3",
   "version": "3.11.7"
  }
 },
 "nbformat": 4,
 "nbformat_minor": 2
}
