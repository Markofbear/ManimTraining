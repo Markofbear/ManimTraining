{
 "cells": [
  {
   "cell_type": "code",
   "execution_count": 1,
   "metadata": {
    "scrolled": true
   },
   "outputs": [
    {
     "data": {
      "text/html": [
       "<pre style=\"white-space:pre;overflow-x:auto;line-height:normal;font-family:Menlo,'DejaVu Sans Mono',consolas,'Courier New',monospace\">Manim Community <span style=\"color: #008000; text-decoration-color: #008000\">v0.14.0</span>\n",
       "\n",
       "</pre>\n"
      ],
      "text/plain": [
       "Manim Community \u001b[32mv0.\u001b[0m\u001b[32m14.0\u001b[0m\n",
       "\n"
      ]
     },
     "metadata": {},
     "output_type": "display_data"
    }
   ],
   "source": [
    "from manim import *\n",
    "config.media_width = \"100%\"\n",
    "\n",
    "ri = \"-s --disable_caching -v WARNING Example\"\n",
    "rv = \"-qm --disable_caching -v WARNING Example\""
   ]
  },
  {
   "cell_type": "markdown",
   "metadata": {},
   "source": [
    "# See documentation\n",
    "\n",
    "I was going to leave you many examples of how to use the texts, but currently the documentation is very well done, this is the only chapter where I am going to send you to the documentation directly, but it is a good idea that you learn how to use it.\n",
    "\n",
    "* Text documentation: https://docs.manim.community/en/stable/reference/manim.mobject.svg.text_mobject.Text.html\n",
    "\n",
    "* MarkupText docs: https://docs.manim.community/en/stable/reference/manim.mobject.svg.text_mobject.MarkupText.html\n",
    "\n",
    "**Use this notebook to practice.**"
   ]
  },
  {
   "cell_type": "markdown",
   "metadata": {},
   "source": []
  }
 ],
 "metadata": {
  "interpreter": {
   "hash": "659fcb5ecd3da9795ce42989ccb6a96d00fdb87ed448b82184be25a990041bf3"
  },
  "kernelspec": {
   "display_name": "Python 3 (ipykernel)",
   "language": "python",
   "name": "python3"
  },
  "language_info": {
   "codemirror_mode": {
    "name": "ipython",
    "version": 3
   },
   "file_extension": ".py",
   "mimetype": "text/x-python",
   "name": "python",
   "nbconvert_exporter": "python",
   "pygments_lexer": "ipython3",
   "version": "3.9.9"
  }
 },
 "nbformat": 4,
 "nbformat_minor": 2
}
